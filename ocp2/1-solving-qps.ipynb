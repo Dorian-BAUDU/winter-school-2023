{
 "cells": [
  {
   "cell_type": "code",
   "execution_count": 1,
   "metadata": {},
   "outputs": [],
   "source": [
    "%matplotlib inline\n",
    "import gepetuto.magic"
   ]
  },
  {
   "cell_type": "markdown",
   "metadata": {},
   "source": [
    "# Solving QPs"
   ]
  },
  {
   "cell_type": "code",
   "execution_count": null,
   "metadata": {},
   "outputs": [],
   "source": [
    "import numpy as np\n",
    "import numpy.linalg as npla\n",
    "import matplotlib.pyplot as plt\n",
    "\n",
    "from utils.random_qp import (\n",
    "    generate_convex_eqp,\n",
    "    generate_convex_qp_nolicq,\n",
    "    infNorm,\n",
    "    QP)\n"
   ]
  },
  {
   "cell_type": "markdown",
   "metadata": {},
   "source": [
    "In this tutorial, we will be studying the resolution of equality-constrained quadratic programs (EQPs), which take the general form\n",
    "\\begin{align}\n",
    "  &\\min_x \\frac{1}{2}x^\\top Q x + q^\\top x \\\\\n",
    "  &\\text{s.t.}\\quad Ax + b = 0.\n",
    "\\end{align}\n",
    "\n",
    "This is the simplest form of quadratic program (QP), as it does *not* include inequality constraints, which are very difficult to handle in general."
   ]
  },
  {
   "cell_type": "markdown",
   "metadata": {},
   "source": [
    "## 1. Inverting KKT matrices\n",
    "\n",
    "### Some assembly required"
   ]
  },
  {
   "cell_type": "markdown",
   "metadata": {},
   "source": [
    "We will generate a random, convex equality-QP, and assemble its KKT matrix\n",
    "$$\n",
    "  \\mathcal{K} = \\begin{bmatrix}\n",
    "  Q & A^\\top \\\\ A & \n",
    "  \\end{bmatrix}\n",
    "$$\n",
    "to solve it directly."
   ]
  },
  {
   "cell_type": "code",
   "execution_count": 4,
   "metadata": {},
   "outputs": [],
   "source": [
    "# %load tp1/generated/qp_kkt_get_a_qp\n",
    "nx = 3\n",
    "nc = 1\n",
    "\n",
    "qp = generate_convex_eqp(nx,nx,nc)\n"
   ]
  },
  {
   "cell_type": "markdown",
   "metadata": {},
   "source": [
    "Now, assemble the KKT matrix and solve the QP."
   ]
  },
  {
   "cell_type": "code",
   "execution_count": 6,
   "metadata": {},
   "outputs": [],
   "source": [
    "%do_not_load_snippet tp1/generated/qp_kkt_assemble_kkt"
   ]
  },
  {
   "cell_type": "code",
   "execution_count": 13,
   "metadata": {},
   "outputs": [],
   "source": [
    "# %load tp1/generated/qp_kkt_assemble_kkt\n",
    "# Assemble the KKT matrix \n",
    "K = np.block([ [qp.Q, qp.A.T], [qp.A, np.zeros([nc,nc]) ]])\n",
    "# Assemble the corresponding vector\n",
    "k = np.concatenate([ -qp.q, -qp.b ])\n",
    "\n",
    "# Solve the QP by inverting the QP\n",
    "primal_dual = npla.inv(K) @ k\n",
    "# Extact primal and dual optimal from the KKT inversion\n",
    "x_opt = primal_dual[:nx]\n",
    "mult_opt = primal_dual[nx:]\n"
   ]
  },
  {
   "cell_type": "markdown",
   "metadata": {},
   "source": [
    "Print the corresponding primal and dual residuals (use the `infNorm` function)\n",
    "$$\n",
    "  p_\\text{err} = \\| Ax - b \\|_\\infty, \\quad\n",
    "  d_\\text{err} = \\| Qx + q + A^\\top y \\|_\\infty.\n",
    "$$\n",
    "\n",
    "Is the problem solved?"
   ]
  },
  {
   "cell_type": "code",
   "execution_count": 15,
   "metadata": {},
   "outputs": [],
   "source": [
    "# %load tp1/generated/qp_kkt_pd_err\n",
    "perr = infNorm(qp.A @ x_opt + qp.b)\n",
    "derr = infNorm(qp.Q @ x_opt + qp.q + qp.A.T @ mult_opt)\n",
    "print(\"Primal error:\", perr)\n",
    "print(\"Dual   error:\", derr)\n"
   ]
  },
  {
   "cell_type": "markdown",
   "metadata": {},
   "source": [
    "### Solving bad QPs"
   ]
  },
  {
   "cell_type": "markdown",
   "metadata": {},
   "source": [
    "In this second part, we will randomly generate some QPs that go from very nice (strictly convex) to terrible (redundant constraints, etc.)."
   ]
  },
  {
   "cell_type": "markdown",
   "metadata": {},
   "source": [
    "First, rewrite your code for inverting the KKT matrix as a function:"
   ]
  },
  {
   "cell_type": "code",
   "execution_count": 19,
   "metadata": {},
   "outputs": [],
   "source": [
    "# %load tp1/generated/qp_kkt_kkt\n",
    "def solve_qp_inv_kkt(qp: QP):\n",
    "    \"\"\"Routine to solve a QP from its KKT matrix.\n",
    "\n",
    "    Must return: primal solution, dual solution,\n",
    "    primal and dual residual.\n",
    "    \"\"\"\n",
    "    ...\n"
   ]
  },
  {
   "cell_type": "code",
   "execution_count": 20,
   "metadata": {},
   "outputs": [],
   "source": [
    "# %load tp1/generated/qp_kkt_kkt_solution\n",
    "def solve_qp_inv_kkt(qp: QP):\n",
    "    Q = qp.Q\n",
    "    q = qp.q\n",
    "    A = qp.A\n",
    "    b = qp.b\n",
    "    nx = Q.shape[0]\n",
    "    nc = b.shape[0]\n",
    "    mat = np.block([[Q, A.T], [A, np.zeros((nc, nc))]])\n",
    "    rhs = np.concatenate([q, b])\n",
    "\n",
    "    matinv = npla.inv(mat)\n",
    "    pd_opt = -matinv @ rhs\n",
    "    xopt, yopt = pd_opt[:nx], pd_opt[nx:]\n",
    "    derr = infNorm(Q @ xopt + q + A.T @ yopt)\n",
    "    perr = infNorm(A @ xopt + b)\n",
    "    return xopt, yopt, perr, derr\n"
   ]
  },
  {
   "cell_type": "markdown",
   "metadata": {},
   "source": [
    "Now we're going to generate a few couple of QPs:"
   ]
  },
  {
   "cell_type": "code",
   "execution_count": 21,
   "metadata": {},
   "outputs": [],
   "source": [
    "# %load tp1/generated/qp_kkt_get_some_qps\n",
    "qp1_strict = generate_convex_eqp(4, 4, 2, check_strictly_convex=True)\n",
    "qp2_nostrict = generate_convex_eqp(4, 2, 2)\n",
    "qp3_nolicq = generate_convex_qp_nolicq(4, 2, 2, 1)\n",
    "qp4_strict_nolicq = generate_convex_qp_nolicq(4, 5, 2, 1)\n",
    "qp5_overconstrained = generate_convex_eqp(4, 5, 5)\n"
   ]
  },
  {
   "cell_type": "markdown",
   "metadata": {},
   "source": [
    "Read the help for some of the functions:"
   ]
  },
  {
   "cell_type": "code",
   "execution_count": 22,
   "metadata": {},
   "outputs": [],
   "source": [
    "help(generate_convex_eqp)"
   ]
  },
  {
   "cell_type": "markdown",
   "metadata": {},
   "source": [
    "Look at the KKT matrices of these QPs. What's wrong with each of them?\n",
    "\n",
    "**Hint** Try using `npla.eigvalsh` to get their eigenvalues. Also look at the eigenvalues of the matrix $Q$."
   ]
  },
  {
   "cell_type": "markdown",
   "metadata": {},
   "source": [
    "Now run the following cell: it will attempt solving each QP and print the resulting primal-dual errors.\n",
    "\n",
    "Customize the output how you want. The try/except statement might be triggered at some point...\n",
    "1. what kind of error do we get?\n",
    "2. for which QPs?"
   ]
  },
  {
   "cell_type": "code",
   "execution_count": 24,
   "metadata": {},
   "outputs": [],
   "source": [
    "# %load tp1/generated/qp_kkt_solve_some_qps\n",
    "for qp in [\n",
    "    qp1_strict,\n",
    "    qp2_nostrict,\n",
    "    qp3_nolicq,\n",
    "    qp4_strict_nolicq,\n",
    "    qp5_overconstrained,\n",
    "]:\n",
    "    try:\n",
    "        print(\"====\")\n",
    "        xopt, yopt, perr, derr = solve_qp_inv_kkt(qp)\n",
    "        print(\"primal error = {}\".format(perr))\n",
    "        print(\"dual   error = {}\".format(derr))\n",
    "    except Exception as e:\n",
    "        print(\"Got an exception: {}\".format(e))\n"
   ]
  },
  {
   "cell_type": "markdown",
   "metadata": {},
   "source": [
    "**Bonus question** Instead of solving\n",
    "$$\n",
    "  \\begin{bmatrix}\n",
    "  Q & A^\\top \\\\ A \n",
    "  \\end{bmatrix}\n",
    "  \\begin{bmatrix}\n",
    "    x \\\\ y\n",
    "  \\end{bmatrix}\n",
    "  = -\\begin{bmatrix} q \\\\ b \\end{bmatrix}\n",
    "$$\n",
    "try, for $Q$ positive definite, solving a system in $y$ with the matrix $AQ^{-1}A^\\top$.\n",
    "\n",
    "1. Write the full system (with its right-hand side) and how to get $x$ back from $y$\n",
    "2. Write the code below, and test it out: is it more or less accurate than straight KKT?"
   ]
  },
  {
   "cell_type": "code",
   "execution_count": 15,
   "metadata": {},
   "outputs": [],
   "source": [
    "def goldfarb_method(qp: QP):\n",
    "    \"\"\"Returns the same outputs as the previous methods.\"\"\"\n",
    "    ..."
   ]
  },
  {
   "cell_type": "markdown",
   "metadata": {},
   "source": [
    "### Proximal iteration"
   ]
  },
  {
   "cell_type": "markdown",
   "metadata": {},
   "source": [
    "Following the slides, write down the code for a *single* iteration of the proximal EQP algorithm: "
   ]
  },
  {
   "cell_type": "code",
   "execution_count": 25,
   "metadata": {},
   "outputs": [],
   "source": [
    "# %load tp1/generated/qp_prox_prox_iteration\n",
    "def solve_qp_prox_one_iter(qp: QP, prev_l, mu: float = 0.01):\n",
    "    \"\"\"Perform one iteration of the proximal algo.\n",
    "    \n",
    "    This should return the same outputs as `solve_qp_inv_kkt`.\n",
    "    \"\"\"\n",
    "    ...\n"
   ]
  },
  {
   "cell_type": "code",
   "execution_count": 26,
   "metadata": {},
   "outputs": [],
   "source": [
    "# %load tp1/generated/qp_prox_prox_iteration_sol\n",
    "def solve_qp_prox_one_iter(qp: QP, prev_l, mu: float = 0.01):\n",
    "    \"\"\"Perform one iteration of the proximal algo.\n",
    "    \n",
    "    This should return the same outputs as `solve_qp_inv_kkt`.\n",
    "    \"\"\"\n",
    "    Q = qp.Q\n",
    "    q = qp.q\n",
    "    A = qp.A\n",
    "    b = qp.b + mu * prev_l\n",
    "    nx = Q.shape[0]\n",
    "    nc = b.shape[0]\n",
    "    mat = np.block([[Q, A.T], [A, -mu * np.eye(nc)]])\n",
    "    rhs = np.concatenate([q, b])\n",
    "\n",
    "    matinv = npla.inv(mat)\n",
    "    pd_opt = -matinv @ rhs\n",
    "    xopt, lopt = pd_opt[:nx], pd_opt[nx:]\n",
    "    derr = infNorm(Q @ xopt + qp.q + A.T @ lopt)\n",
    "    perr = infNorm(A @ xopt + qp.b)\n",
    "    return xopt, lopt, perr, derr\n"
   ]
  },
  {
   "cell_type": "markdown",
   "metadata": {},
   "source": [
    "Run the algorithm for one iteration on a QP (it can be one of the previous ones, or some other QP you write down by hand or generate):"
   ]
  },
  {
   "cell_type": "code",
   "execution_count": 27,
   "metadata": {},
   "outputs": [],
   "source": [
    "# %load tp1/generated/qp_prox_iterate_once\n",
    "test_qp = generate_convex_eqp(5, 4, 4)\n",
    "yinit = np.zeros(4)\n",
    "solve_qp_prox_one_iter(test_qp, yinit)\n"
   ]
  },
  {
   "cell_type": "markdown",
   "metadata": {},
   "source": [
    "Now iterate a few times:"
   ]
  },
  {
   "cell_type": "code",
   "execution_count": 35,
   "metadata": {},
   "outputs": [],
   "source": [
    "# %load tp1/generated/qp_prox_iterate_manual\n",
    "numiters = 30\n",
    "yi = yinit\n",
    "errs_ = []\n",
    "\n",
    "for t in range(numiters):\n",
    "    xi, yi, perr, derr = solve_qp_prox_one_iter(test_qp, yi, mu=0.1)  # play with mu?\n",
    "    errs_.append((perr, derr))\n",
    "    print(errs_[-1])\n"
   ]
  },
  {
   "cell_type": "markdown",
   "metadata": {},
   "source": [
    "Now, let's plot the convergence of the method using the values of the primal and dual residuals stored in `errs_`."
   ]
  },
  {
   "cell_type": "code",
   "execution_count": 57,
   "metadata": {},
   "outputs": [],
   "source": [
    "# %load tp1/generated/qp_prox_plot_conv\n",
    "errs_ = np.asarray(errs_)\n",
    "plt.subplot(121)\n",
    "# primal error\n",
    "plt.plot(errs_[:, 0], ls=\"--\")\n",
    "plt.yscale(\"log\")\n",
    "plt.title(\"Primal error $\\| Ax - b \\|$\")\n",
    "\n",
    "plt.subplot(122)\n",
    "plt.plot(errs_[:, 1], ls=\"--\")\n",
    "plt.yscale(\"log\")\n",
    "plt.title(\"Dual error $\\| Qx + q + A^\\\\top y \\|$\")\n",
    "plt.tight_layout()\n"
   ]
  },
  {
   "cell_type": "markdown",
   "metadata": {},
   "source": [
    "Go back to the manual iteration and play with the parameter $\\mu$, then plot the convergence again. What do you see?"
   ]
  },
  {
   "cell_type": "markdown",
   "metadata": {},
   "source": [
    "### Code your own solver, with automatic stopping"
   ]
  },
  {
   "cell_type": "markdown",
   "metadata": {},
   "source": [
    "Now, we will rewrite the procedure as a self-contained function which will stop automatically once the primal and dual errors are below a prescribed threshold $\\epsilon$:\n",
    "$$\n",
    "  \\max(p_\\text{err}, d_\\text{err}) \\leq \\epsilon.\n",
    "$$\n",
    "\n",
    "The method:\n",
    "1. should reuse the code from before, solving one iteration\n",
    "2. should stop if and only if it has converged **or** reached a max number of iterations $M$"
   ]
  },
  {
   "cell_type": "code",
   "execution_count": 41,
   "metadata": {},
   "outputs": [],
   "source": [
    "# %load tp1/generated/qp_prox_auto_iteration\n",
    "def solve_qp_prox(qp: QP, yinit, mu: float = 0.01, epsilon=1e-12, max_iters=200):\n",
    "    \"\"\"Iterate the proximal algorithm until you have converged to a desired threshold :math:`epsilon`.\n",
    "\n",
    "    Parameters\n",
    "        qp: QP instance\n",
    "        yinit: initial-guess for the dual variables\n",
    "        mu: proximal parameter\n",
    "        epsilon: threshold\n",
    "        max_iters: maximum number of iterations\n",
    "\n",
    "    This should return the same outputs as `solve_qp_inv_kkt`.\"\"\"\n",
    "    ...\n"
   ]
  },
  {
   "cell_type": "code",
   "execution_count": 45,
   "metadata": {},
   "outputs": [],
   "source": [
    "# %load tp1/generated/qp_prox_auto_iteration_sol\n",
    "def solve_qp_prox(qp: QP, yinit, mu: float = 0.01, epsilon=1e-12, max_iters=200):\n",
    "    yi = yinit.copy()\n",
    "    for t in range(max_iters):\n",
    "        xi, yi, perr, derr = solve_qp_prox_one_iter(qp, yi, mu)\n",
    "        conv = max(perr, derr) <= epsilon\n",
    "        if conv:\n",
    "            break\n",
    "    return xi, yi, perr, derr\n"
   ]
  },
  {
   "cell_type": "markdown",
   "metadata": {},
   "source": [
    "Now, we shall get some weird QPs, and attempt to solve them again."
   ]
  },
  {
   "cell_type": "code",
   "execution_count": 49,
   "metadata": {},
   "outputs": [],
   "source": [
    "# %load tp1/generated/qp_prox_get_some_qps\n",
    "qp1_strict = generate_convex_eqp(4, 4, 2, check_strictly_convex=True)\n",
    "qp2_nostrict = generate_convex_eqp(4, 2, 2)\n",
    "qp3_nolicq = generate_convex_qp_nolicq(4, 2, 2, 1)\n",
    "qp4_strict_nolicq = generate_convex_qp_nolicq(4, 5, 2, 1)\n",
    "qp5_overconstrained = generate_convex_eqp(4, 5, 5)\n",
    "\n",
    "mu = 1e-5\n",
    "\n",
    "for qp in [\n",
    "    qp1_strict,\n",
    "    qp2_nostrict,\n",
    "    qp3_nolicq,\n",
    "    qp4_strict_nolicq,\n",
    "    qp5_overconstrained,\n",
    "]:\n",
    "    print(\"====\")    \n",
    "    xopt, yopt, perr, derr = solve_qp_prox(qp, yinit=np.zeros(qp.b.size), mu=mu)\n",
    "    print(\"primal error = {}\".format(perr))\n",
    "    print(\"dual   error = {}\".format(derr))\n"
   ]
  },
  {
   "cell_type": "markdown",
   "metadata": {},
   "source": [
    "### Plotting the influence of $\\mu$"
   ]
  },
  {
   "cell_type": "markdown",
   "metadata": {},
   "source": [
    "1. Rewrite the `solve_qp_prox` function from before to return the *sequence* of all primal-dual errors during the resolution of the QP.\n",
    "2. Choose a QP instance, and for this instance solve it using multiple values of $\\mu$ and plot the convergence diagram"
   ]
  },
  {
   "cell_type": "code",
   "execution_count": 61,
   "metadata": {},
   "outputs": [],
   "source": [
    "# %load tp1/generated/qp_prox_auto_iteration_sol_diag\n",
    "def solve_qp_prox(qp: QP, yinit, mu: float = 0.01, epsilon=1e-12, max_iters=200):\n",
    "    yi = yinit.copy()\n",
    "    perrs = []\n",
    "    derrs = []\n",
    "    for t in range(max_iters):\n",
    "        xi, yi, _perr, _derr = solve_qp_prox_one_iter(qp, yi, mu)\n",
    "        conv = max(_perr, _derr) <= epsilon\n",
    "        perrs.append(_perr)\n",
    "        derrs.append(_derr)\n",
    "        if conv:\n",
    "            break\n",
    "    return xi, yi, perrs, derrs\n"
   ]
  },
  {
   "cell_type": "code",
   "execution_count": 73,
   "metadata": {},
   "outputs": [],
   "source": [
    "# %load tp1/generated/qp_prox_solver_mu_impact\n",
    "qp = qp1_strict\n",
    "mu_vals = [0.1, 0.01, 1e-4, 1e-6]\n",
    "epsilon = 1e-14\n",
    "\n",
    "plt.subplot(111)\n",
    "for mu in mu_vals:\n",
    "    _, _, perrs, derrs = solve_qp_prox(qp, np.zeros(qp.b.size), mu, epsilon=epsilon)\n",
    "    perrs = np.asarray(perrs)\n",
    "    plt.plot(perrs, label=\"$\\\\mu = {:.2e}$\".format(mu), ls='--')\n",
    "\n",
    "plt.yscale(\"log\")\n",
    "plt.legend()\n",
    "plt.tight_layout()\n"
   ]
  },
  {
   "cell_type": "markdown",
   "metadata": {},
   "source": [
    "## 3. Some QPs from robotics"
   ]
  },
  {
   "cell_type": "markdown",
   "metadata": {},
   "source": [
    "### Inverse dynamics on Digit:"
   ]
  },
  {
   "cell_type": "code",
   "execution_count": 78,
   "metadata": {},
   "outputs": [],
   "source": [
    "from utils.robotics_qp import load_digit_dyn_qp, load_crocoddyl_qp"
   ]
  },
  {
   "cell_type": "code",
   "execution_count": 79,
   "metadata": {},
   "outputs": [],
   "source": [
    "digit_qp = load_digit_dyn_qp()"
   ]
  },
  {
   "cell_type": "code",
   "execution_count": 92,
   "metadata": {},
   "outputs": [],
   "source": [
    "yopt = np.zeros(digit_qp.b.size)\n",
    "xopt, yopt, perr, derr = solve_qp_prox(digit_qp, yopt)"
   ]
  },
  {
   "cell_type": "code",
   "execution_count": 93,
   "metadata": {},
   "outputs": [
    {
     "data": {
      "text/plain": [
       "Text(0.5, 1.0, 'Primal error - inverse dynamics on Digit')"
      ]
     },
     "execution_count": 93,
     "metadata": {},
     "output_type": "execute_result"
    },
    {
     "data": {
      "image/png": "[encoded data removed]",
      "text/plain": [
       "<Figure size 720x480 with 1 Axes>"
      ]
     },
     "metadata": {},
     "output_type": "display_data"
    }
   ],
   "source": [
    "plt.figure()\n",
    "plt.plot(perr, ls=\"--\")\n",
    "plt.yscale(\"log\")\n",
    "plt.tight_layout()\n",
    "plt.title(\"Primal error - inverse dynamics on Digit\")"
   ]
  },
  {
   "cell_type": "markdown",
   "metadata": {},
   "source": [
    "### Control QP\n",
    "\n",
    "This is a QP from Crocoddyl, which will have slow computation:"
   ]
  },
  {
   "cell_type": "code",
   "execution_count": 96,
   "metadata": {},
   "outputs": [],
   "source": [
    "croc_qp = load_crocoddyl_qp()\n",
    "yinit = np.zeros(croc_qp.b.size)\n",
    "xopt, yopt, perr, derr = solve_qp_prox(croc_qp, yinit)"
   ]
  },
  {
   "cell_type": "code",
   "execution_count": 97,
   "metadata": {},
   "outputs": [
    {
     "data": {
      "text/plain": [
       "Text(0.5, 1.0, 'Primal error - QP from Crocoddyl')"
      ]
     },
     "execution_count": 97,
     "metadata": {},
     "output_type": "execute_result"
    },
    {
     "data": {
      "image/png": "[encoded data removed]",
      "text/plain": [
       "<Figure size 720x480 with 1 Axes>"
      ]
     },
     "metadata": {},
     "output_type": "display_data"
    }
   ],
   "source": [
    "plt.figure()\n",
    "plt.plot(perr, ls=\"--\")\n",
    "plt.yscale(\"log\")\n",
    "plt.tight_layout()\n",
    "plt.title(\"Primal error - QP from Crocoddyl\")"
   ]
  },
  {
   "cell_type": "code",
   "execution_count": null,
   "metadata": {},
   "outputs": [],
   "source": []
  },
  {
   "cell_type": "code",
   "execution_count": null,
   "metadata": {},
   "outputs": [],
   "source": []
  }
 ],
 "metadata": {
  "kernelspec": {
   "display_name": "pin3",
   "language": "python",
   "name": "python3"
  },
  "language_info": {
   "codemirror_mode": {
    "name": "ipython",
    "version": 3
   },
   "file_extension": ".py",
   "mimetype": "text/x-python",
   "name": "python",
   "nbconvert_exporter": "python",
   "pygments_lexer": "ipython3",
   "version": "3.11.6"
  }
 },
 "nbformat": 4,
 "nbformat_minor": 2
}
