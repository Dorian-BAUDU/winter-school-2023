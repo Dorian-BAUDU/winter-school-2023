{
 "cells": [
  {
   "cell_type": "markdown",
   "metadata": {},
   "source": [
    "# Sim III: Contact dynamics"
   ]
  },
  {
   "cell_type": "code",
   "execution_count": null,
   "metadata": {},
   "outputs": [],
   "source": [
    "from utils import magic_donotload\n",
    "\n",
    "import numpy as np\n",
    "import pinocchio as pin\n",
    "from pinocchio.visualize import MeshcatVisualizer\n",
    "import meshcat\n",
    "import matplotlib.pyplot as plt\n",
    "\n",
    "from utils.contact_dyn import create_cubes, computeContactProblem\n",
    "from utils.visualization import sub_sample"
   ]
  },
  {
   "cell_type": "markdown",
   "metadata": {},
   "source": [
    "## I - Implementation of Projected Gauss Seidel"
   ]
  },
  {
   "cell_type": "markdown",
   "metadata": {},
   "source": [
    "We are going to implement a Bullet-like simulator.\n",
    "You should implement a contact solver using PGS (cf. the course slides on Bullet) with the following API:"
   ]
  },
  {
   "cell_type": "code",
   "execution_count": null,
   "metadata": {},
   "outputs": [],
   "source": [
    "#%load -r 3-25 utils/pgs.py\n",
    "def solve_contact(G: np.ndarray,g: np.ndarray, mus: list, tol : float = 1e-6, max_iter :int = 100) -> np.ndarray:\n",
    "    \"\"\"PGS algorithm solving a contact problem with frictions.\n",
    "\n",
    "    Args:\n",
    "        G (np.ndarray): Delassus matrix.\n",
    "        g (np.ndarray): free velocity of contact points.\n",
    "        mus (list): list of coefficients of friction for the contact points.\n",
    "        tol (float, optional): solver tolerance. Defaults to 1e-6.\n",
    "        max_iter (int, optional): maximum number of iterations for the solver. Defaults to 100.\n",
    "\n",
    "    Returns:\n",
    "        np.ndarray: contact impulses.\n",
    "    \"\"\"\n",
    "    # TODO : PGS\n",
    "    return "
   ]
  },
  {
   "cell_type": "markdown",
   "metadata": {},
   "source": [
    "### Simulating a cube on a plane"
   ]
  },
  {
   "cell_type": "markdown",
   "metadata": {},
   "source": [
    "We build the pinocchio model of a cube and a plane (which stands for the floor) and we fix the simulation parameters (time step, contact solver accuracy etc):"
   ]
  },
  {
   "cell_type": "code",
   "execution_count": null,
   "metadata": {},
   "outputs": [],
   "source": [
    "np.random.seed(1234)\n",
    "pin.seed(12345)\n",
    "\n",
    "## First example: a cube falling on the floor\n",
    "\n",
    "cube_dimension = 0.2  # size of cube\n",
    "cube_mass = 1.0  # mass of cube\n",
    "mu = 0.95  # friction parameter\n",
    "eps = 0.0  # elasticity\n",
    "model, geom_model, visual_model, data, geom_data, visual_data, actuation = create_cubes(\n",
    "    [cube_dimension], [cube_mass], mu, eps\n",
    ") # creating pinocchio models and datas\n",
    "\n",
    "\n",
    "duration = 1. # duration of simulation\n",
    "dt = 1e-3 # time step duration\n",
    "T = int(duration/dt) # number of time steps\n",
    "\n",
    "tolerance = 1e-6 #contact solver accuracy\n",
    "max_iter = 100 #maximum number of iterations of the contact solver"
   ]
  },
  {
   "cell_type": "markdown",
   "metadata": {},
   "source": [
    "Simulation is runned for T time steps."
   ]
  },
  {
   "cell_type": "code",
   "execution_count": null,
   "metadata": {},
   "outputs": [],
   "source": [
    "# initial state\n",
    "q0 = model.qinit.copy()\n",
    "v0 = np.zeros(model.nv)\n",
    "q0[2] = cube_dimension\n",
    "rand_place = pin.SE3.Random()\n",
    "q0[-4:] = pin.SE3ToXYZQUAT(rand_place)[-4:]\n",
    "\n",
    "q, v = q0.copy(), v0.copy()\n",
    "\n",
    "qs, vs = [q0], [v0] #arrays to store trajectory\n",
    "\n",
    "for t in range(T): # simulation loop \n",
    "    tau = np.zeros(model.nv)\n",
    "    pin.updateGeometryPlacements(model, data, geom_model, geom_data, q)\n",
    "    pin.computeCollisions(geom_model, geom_data, False)\n",
    "    J, vf, Del,g, mus = computeContactProblem(model, data, geom_model, geom_data, q, v, tau, dt)\n",
    "    if J is not None:\n",
    "        lam = solve_contact(Del, g, mus, tolerance, max_iter)\n",
    "        dv = dt*pin.aba(model, data, q, v, tau + J.T @ lam/dt)\n",
    "        v += dv\n",
    "    else:\n",
    "        v = vf\n",
    "    q = pin.integrate(model , q, v*dt)\n",
    "    qs += [q]\n",
    "    vs += [v]"
   ]
  },
  {
   "cell_type": "markdown",
   "metadata": {},
   "source": [
    "### Visualizing"
   ]
  },
  {
   "cell_type": "markdown",
   "metadata": {},
   "source": [
    "We visualize the simulated trajectory inside the Meshcat visualizer:"
   ]
  },
  {
   "cell_type": "code",
   "execution_count": null,
   "metadata": {},
   "outputs": [],
   "source": [
    "vizer = MeshcatVisualizer(model, geom_model, visual_model)\n",
    "vizer.initViewer(open=False, loadModel=True)\n",
    "\n",
    "vizer.viewer[\"plane\"].set_object(meshcat.geometry.Box(np.array([20, 20, 0.1])))\n",
    "placement = np.eye(4)\n",
    "placement[:3, 3] = np.array([0, 0, -0.05])\n",
    "vizer.viewer[\"plane\"].set_transform(placement)\n",
    "vizer.display(q0)\n",
    "\n",
    "cp1 = [0.8, 0.0, 0.2] #camera position\n",
    "cps_ = [cp1]\n",
    "numrep = len(cps_)\n",
    "rps_ = [np.zeros(3)]*numrep\n",
    "\n",
    "max_fps = 30.\n",
    "fps = min([max_fps,1./dt])\n",
    "qs = sub_sample(qs,dt*T, fps)\n",
    "vs = sub_sample(vs,dt*T, fps)\n",
    "\n",
    "def get_callback(i: int):\n",
    "    def _callback(t):\n",
    "        pin.forwardKinematics(model, vizer.data, qs[t], vs[t])\n",
    "    return _callback\n"
   ]
  },
  {
   "cell_type": "code",
   "execution_count": null,
   "metadata": {},
   "outputs": [],
   "source": [
    "vizer.viewer.jupyter_cell()"
   ]
  },
  {
   "cell_type": "code",
   "execution_count": null,
   "metadata": {},
   "outputs": [],
   "source": [
    "for i in range(numrep):\n",
    "    vizer.play(\n",
    "        qs,\n",
    "        1./fps,\n",
    "        get_callback(i)\n",
    "    )"
   ]
  },
  {
   "cell_type": "markdown",
   "metadata": {},
   "source": [
    "## II - Impact of the parameters of the solver"
   ]
  },
  {
   "cell_type": "markdown",
   "metadata": {},
   "source": [
    "You should implement PGS with over-relaxation and compute the value of the Signorini complementarity at each iteration. Adding over-relaxation to the PGS algorithm only slightly modifies the original algorithm: the step of the original PGS is scaled by the over-relaxation parameter, $\\alpha_{or}$.\n",
    "The goal here is to observe the effects of the choice of the over-relaxation parameter on the simulator performance. In particular, we will inspect the Signorini complementarity to monitor the convergence of the simulator."
   ]
  },
  {
   "cell_type": "code",
   "execution_count": null,
   "metadata": {},
   "outputs": [],
   "source": [
    "#%load -r 29-60 utils/pgs.py\n",
    "def solve_contact_over_relax(G: np.ndarray,g: np.ndarray, mus: list, dt: float, tol : float = 1e-6, max_iter :int = 100, alpha_or : float = 1.) -> (np.ndarray, np.ndarray):\n",
    "    \"\"\"PGS algorithm solving a contact problem with frictions.\n",
    "\n",
    "    Args:\n",
    "        G (np.ndarray): Delassus matrix.\n",
    "        g (np.ndarray): free velocity of contact points.\n",
    "        mus (list): list of coefficients of friction for the contact points.\n",
    "        dt (float): time step.\n",
    "        tol (float, optional): solver tolerance. Defaults to 1e-6.\n",
    "        max_iter (int, optional): maximum number of iterations for the solver. Defaults to 100.\n",
    "        alpha_or (float, optional): over-relaxation parameter. Defaults to 1.\n",
    "\n",
    "    Returns:\n",
    "        np.ndarray: contact impulses.\n",
    "        np.ndarray: value of Signorini complementarity accross iterations of the algorithm.\n",
    "    \"\"\"\n",
    "    # TODO\n",
    "    return"
   ]
  },
  {
   "cell_type": "code",
   "execution_count": null,
   "metadata": {},
   "outputs": [],
   "source": [
    "q0 = model.qinit.copy()\n",
    "v0 = np.zeros(model.nv)\n",
    "q, v = q0.copy(), v0.copy()\n",
    "tau = np.zeros(model.nv)\n",
    "pin.updateGeometryPlacements(model, data, geom_model, geom_data, q)\n",
    "pin.computeCollisions(geom_model, geom_data, False)\n",
    "J, vf, Del,g, mus = computeContactProblem(model, data, geom_model, geom_data, q, v, tau, dt)"
   ]
  },
  {
   "cell_type": "code",
   "execution_count": null,
   "metadata": {},
   "outputs": [],
   "source": [
    "max_iter = 50\n",
    "iterations = [i for i in range(max_iter)]\n",
    "alpha_ors = [.6,1.,1.6]\n",
    "plt.figure()\n",
    "for alpha_or in alpha_ors:\n",
    "    lam, sig_comps = solve_contact_over_relax(Del, g, mus, dt, tolerance, max_iter, alpha_or=alpha_or)\n",
    "    plt.plot(iterations, sig_comps, label = r\"$\\alpha_{or}=$\"+str(alpha_or))\n",
    "plt.legend()\n",
    "plt.xlabel(\"Iterations\", fontsize=20)\n",
    "plt.ylabel(\"Signorini complementarity\", fontsize=20)\n",
    "plt.show()"
   ]
  },
  {
   "cell_type": "markdown",
   "metadata": {},
   "source": [
    "## III - Instability of PGS"
   ]
  },
  {
   "cell_type": "markdown",
   "metadata": {},
   "source": [
    "### Simulating two stacked cubes"
   ]
  },
  {
   "cell_type": "markdown",
   "metadata": {},
   "source": [
    "We define the pinocchio model of 2 cubes of very different mass (1g vs 1e3kg) with a plane (standing for the floor). The ill-conditionning of the problem should hinder the convergence of PGS and cause the simulation to fail."
   ]
  },
  {
   "cell_type": "code",
   "execution_count": null,
   "metadata": {},
   "outputs": [],
   "source": [
    "cube_dimension = 0.2  # size of cube\n",
    "cube1_mass = 1e-3  # mass of cube 1\n",
    "cube2_mass = 1e3  # mass of cube 2\n",
    "mu = 0.9  # friction parameter between cube and floor\n",
    "el = 0.\n",
    "comp = 0.\n",
    "model, geom_model, visual_model, data, geom_data, visual_data, actuation = create_cubes(\n",
    "    [cube_dimension, cube_dimension], [cube1_mass, cube2_mass], mu, el\n",
    ")\n",
    "\n",
    "# Number of time steps\n",
    "T = 100\n",
    "dt = 1e-3\n",
    "\n",
    "# Physical parameters of the contact problem\n",
    "Kb = 1e-4*0.  # Baumgarte\n",
    "eps = 0.0  # elasticity"
   ]
  },
  {
   "cell_type": "code",
   "execution_count": null,
   "metadata": {},
   "outputs": [],
   "source": [
    "# initial state\n",
    "q0 = pin.neutral(model)\n",
    "q0[2] = cube_dimension / 2 + cube_dimension/50.\n",
    "q0[9] = 3. * cube_dimension / 2 + 3*cube_dimension/50.\n",
    "v0 = np.zeros(model.nv)\n",
    "q, v = q0.copy(), v0.copy()\n",
    "\n",
    "qs, vs = [q0], [v0] #arrays to store trajectory\n",
    "\n",
    "for t in range(T): # simulation loop \n",
    "    tau = np.zeros(model.nv)\n",
    "    pin.updateGeometryPlacements(model, data, geom_model, geom_data, q)\n",
    "    pin.computeCollisions(geom_model, geom_data, False)\n",
    "    J, vf, Del,g, mus = computeContactProblem(model, data, geom_model, geom_data, q, v, tau, dt)\n",
    "    if J is not None:\n",
    "        lam, _ = solve_contact_over_relax(Del, g, mus, dt, tolerance, max_iter)\n",
    "        dv = dt*pin.aba(model, data, q, v, tau + J.T @ lam/dt)\n",
    "        v += dv\n",
    "    else:\n",
    "        v = vf\n",
    "    q = pin.integrate(model , q, v*dt)\n",
    "    qs += [q]\n",
    "    vs += [v]"
   ]
  },
  {
   "cell_type": "markdown",
   "metadata": {},
   "source": [
    "### Visualization"
   ]
  },
  {
   "cell_type": "markdown",
   "metadata": {},
   "source": [
    "We visualize the trajectory of the 2 stacked cubes:"
   ]
  },
  {
   "cell_type": "code",
   "execution_count": null,
   "metadata": {},
   "outputs": [],
   "source": [
    "vizer = MeshcatVisualizer(model, geom_model, visual_model)\n",
    "vizer.initViewer(open=False, loadModel=True)\n",
    "\n",
    "vizer.viewer[\"plane\"].set_object(meshcat.geometry.Box(np.array([20, 20, 0.1])))\n",
    "placement = np.eye(4)\n",
    "placement[:3, 3] = np.array([0, 0, -0.05])\n",
    "vizer.viewer[\"plane\"].set_transform(placement)\n",
    "vizer.display(q0)\n",
    "\n",
    "cp1 = [0.8, 0.0, 0.2] #camera position\n",
    "cps_ = [cp1]\n",
    "numrep = len(cps_)\n",
    "rps_ = [np.zeros(3)]*numrep\n",
    "\n",
    "max_fps = 30.\n",
    "fps = min([max_fps,1./dt])\n",
    "qs = sub_sample(qs,dt*T, fps)\n",
    "vs = sub_sample(vs,dt*T, fps)\n",
    "\n",
    "def get_callback(i: int):\n",
    "    def _callback(t):\n",
    "        pin.forwardKinematics(model, vizer.data, qs[t], vs[t])\n",
    "    return _callback\n",
    "\n"
   ]
  },
  {
   "cell_type": "code",
   "execution_count": null,
   "metadata": {},
   "outputs": [],
   "source": [
    "vizer.viewer.jupyter_cell()"
   ]
  },
  {
   "cell_type": "code",
   "execution_count": null,
   "metadata": {},
   "outputs": [],
   "source": [
    "for i in range(numrep):\n",
    "    vizer.play(\n",
    "        qs,\n",
    "        1./fps,\n",
    "        get_callback(i)\n",
    "    )"
   ]
  },
  {
   "cell_type": "markdown",
   "metadata": {},
   "source": [
    "### Inspecting convergence"
   ]
  },
  {
   "cell_type": "markdown",
   "metadata": {},
   "source": [
    "We monitor the evolution of the Signorini complementarity across the iterations of PGS during the simulation of the first time-step:"
   ]
  },
  {
   "cell_type": "code",
   "execution_count": null,
   "metadata": {},
   "outputs": [],
   "source": [
    "# initial state\n",
    "q0 = pin.neutral(model)\n",
    "q0[2] = cube_dimension / 2 + cube_dimension/50.\n",
    "q0[9] = 3. * cube_dimension / 2 + 3*cube_dimension/50.\n",
    "v0 = np.zeros(model.nv)\n",
    "q, v = q0.copy(), v0.copy()\n",
    "\n",
    "tau = np.zeros(model.nv)\n",
    "pin.updateGeometryPlacements(model, data, geom_model, geom_data, q)\n",
    "pin.computeCollisions(geom_model, geom_data, False)\n",
    "J, vf, Del,g, mus = computeContactProblem(model, data, geom_model, geom_data, q, v, tau, dt)\n",
    "lam, sig_comps  = solve_contact_over_relax(Del, g, mus, dt, tolerance, max_iter)"
   ]
  },
  {
   "cell_type": "markdown",
   "metadata": {},
   "source": [
    "We will inspect the eigenvalues in order to have an idea of the conditionning of the problem:"
   ]
  },
  {
   "cell_type": "code",
   "execution_count": null,
   "metadata": {},
   "outputs": [],
   "source": [
    "print(\"eigenvalues:\", np.linalg.eigvalsh(Del))"
   ]
  },
  {
   "cell_type": "code",
   "execution_count": null,
   "metadata": {},
   "outputs": [],
   "source": [
    "plt.figure()\n",
    "iterations = [i for i in range(max_iter)]\n",
    "plt.plot(iterations, sig_comps)\n",
    "plt.xlabel(\"Iterations\", fontsize=20)\n",
    "plt.ylabel(\"Signorini complementarity\", fontsize=20)\n",
    "plt.show()"
   ]
  },
  {
   "cell_type": "markdown",
   "metadata": {},
   "source": [
    "## IV - Internal forces"
   ]
  },
  {
   "cell_type": "markdown",
   "metadata": {},
   "source": [
    "### Simulating a dragged cube"
   ]
  },
  {
   "cell_type": "markdown",
   "metadata": {},
   "source": [
    "We create the pinocchio model of a cube on a plane:"
   ]
  },
  {
   "cell_type": "code",
   "execution_count": null,
   "metadata": {},
   "outputs": [],
   "source": [
    "cube_dimension = 0.2  # size of cube\n",
    "cube_mass = 1.0  # mass of cube\n",
    "mu = 0.95  # friction parameter\n",
    "eps = 0.0  # elasticity\n",
    "model, geom_model, visual_model, data, geom_data, visual_data, actuation = create_cubes(\n",
    "    [cube_dimension], [cube_mass], mu, eps\n",
    ")\n",
    "\n",
    "# duration of simulation\n",
    "duration = .5\n",
    "# time steps\n",
    "dt = 1e-3\n",
    "T = int(duration/dt)\n",
    "\n",
    "# numerical precision\n",
    "tolerance = 1e-6\n",
    "max_iter = 100"
   ]
  },
  {
   "cell_type": "markdown",
   "metadata": {},
   "source": [
    "We drag the cube on a plane with an increasing force along the y-axis and observe the direction of the friction forces at each contact point:"
   ]
  },
  {
   "cell_type": "code",
   "execution_count": null,
   "metadata": {},
   "outputs": [],
   "source": [
    "q0 = model.qinit.copy()\n",
    "v0 = np.zeros(model.nv)\n",
    "\n",
    "q, v = q0.copy(), v0.copy()\n",
    "\n",
    "qs, vs = [q0], [v0] #arrays to store trajectory\n",
    "\n",
    "internal_forces = np.zeros((T,4)) # store contact force along x axis for each contact point at every time step\n",
    "\n",
    "for t in range(T): # simulation loop \n",
    "    tau = np.zeros(model.nv)\n",
    "    tau[1] = t*.1 # applying an increasing force pushing the cube along y axis\n",
    "    pin.updateGeometryPlacements(model, data, geom_model, geom_data, q)\n",
    "    pin.computeCollisions(geom_model, geom_data, False)\n",
    "    J, vf, Del,g, mus = computeContactProblem(model, data, geom_model, geom_data, q, v, tau, dt)\n",
    "    if J is not None:\n",
    "        lam = solve_contact(Del, g, mus, tolerance, max_iter)\n",
    "        dv = dt*pin.aba(model, data, q, v, tau + J.T @ lam/dt)\n",
    "        v += dv\n",
    "        for i in range(4):\n",
    "            internal_forces[t,i] = lam[3*i]/dt\n",
    "    else:\n",
    "        v = vf\n",
    "    q = pin.integrate(model , q, v*dt)\n",
    "    qs += [q]\n",
    "    vs += [v]"
   ]
  },
  {
   "cell_type": "markdown",
   "metadata": {},
   "source": [
    "We visualize the simulated trajectory inside the Meshcat visualizer."
   ]
  },
  {
   "cell_type": "code",
   "execution_count": null,
   "metadata": {},
   "outputs": [],
   "source": [
    "vizer = MeshcatVisualizer(model, geom_model, visual_model)\n",
    "vizer.initViewer(open=False, loadModel=True)\n",
    "\n",
    "vizer.viewer[\"plane\"].set_object(meshcat.geometry.Box(np.array([20, 20, 0.1])))\n",
    "placement = np.eye(4)\n",
    "placement[:3, 3] = np.array([0, 0, -0.05])\n",
    "vizer.viewer[\"plane\"].set_transform(placement)\n",
    "vizer.display(q0)\n",
    "\n",
    "cp1 = [1., 0.0, 0.2] #camera position\n",
    "cps_ = [cp1]\n",
    "numrep = len(cps_)\n",
    "rps_ = [np.zeros(3)]*numrep\n",
    "\n",
    "max_fps = 30.\n",
    "fps = min([max_fps,1./dt])\n",
    "q0[2] = cube_dimension\n",
    "rand_place = pin.SE3.Random()\n",
    "q0[-4:] = pin.SE3ToXYZQUAT(rand_place)[-4:]\n",
    "qs = sub_sample(qs,dt*T, fps)\n",
    "vs = sub_sample(vs,dt*T, fps)\n",
    "\n",
    "def get_callback(i: int):\n",
    "    def _callback(t):\n",
    "        pin.forwardKinematics(model, vizer.data, qs[t], vs[t])\n",
    "    return _callback\n"
   ]
  },
  {
   "cell_type": "code",
   "execution_count": null,
   "metadata": {},
   "outputs": [],
   "source": [
    "vizer.viewer.jupyter_cell()"
   ]
  },
  {
   "cell_type": "code",
   "execution_count": null,
   "metadata": {},
   "outputs": [],
   "source": [
    "for i in range(numrep):\n",
    "    vizer.play(\n",
    "        qs,\n",
    "        1./fps,\n",
    "        get_callback(i)\n",
    "    )"
   ]
  },
  {
   "cell_type": "markdown",
   "metadata": {},
   "source": [
    "We plot the friction component along the x-axis:"
   ]
  },
  {
   "cell_type": "code",
   "execution_count": null,
   "metadata": {},
   "outputs": [],
   "source": [
    "plt.figure()\n",
    "timesteps = [t for t in range(T)]\n",
    "plt.plot(timesteps, internal_forces)\n",
    "plt.xlabel(\"Iterations\", fontsize=20)\n",
    "plt.ylabel(\"Time-step\", fontsize=20)\n",
    "plt.show()"
   ]
  }
 ],
 "metadata": {
  "kernelspec": {
   "display_name": "Python 3 (ipykernel)",
   "language": "python",
   "name": "python3"
  },
  "language_info": {
   "codemirror_mode": {
    "name": "ipython",
    "version": 3
   },
   "file_extension": ".py",
   "mimetype": "text/x-python",
   "name": "python",
   "nbconvert_exporter": "python",
   "pygments_lexer": "ipython3",
   "version": "3.9.16"
  }
 },
 "nbformat": 4,
 "nbformat_minor": 2
}
