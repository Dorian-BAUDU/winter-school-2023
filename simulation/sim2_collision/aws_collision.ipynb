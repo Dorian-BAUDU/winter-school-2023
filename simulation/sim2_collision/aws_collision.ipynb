{
 "cells": [
  {
   "cell_type": "markdown",
   "metadata": {},
   "source": [
    "# Simulation II: Collision Detection with HPP-FCL"
   ]
  },
  {
   "cell_type": "markdown",
   "metadata": {},
   "source": [
    "![](./lots_of_objs.png)"
   ]
  },
  {
   "cell_type": "markdown",
   "metadata": {},
   "source": [
    "# Part I - A (very) simple kinematic simulator with HPP-FCL\n",
    "The goal of this part is to show how the narrow phase collision detection work in HPP-FCL and ultimately build a very simple kinematic simulator. \n",
    "To do so, we will create a bunch of objects with HPP-FCL, have their collisions checked and update their velocities based on the normal of the collision (if any).\n",
    "\n",
    "We will see in part II of this notebook how to interface with pinocchio.\n",
    "Finally, we will see in `Simulation III` how to properly add physically-accurate contact resolutions.\n",
    "\n",
    "In this tutorial, we will mainly need HPP-FCL.\n",
    "We will also use Pinocchio's `SE3` module to update rotations of moving shapes.\n",
    "Finally, we will also be using meshcat for visualiztion."
   ]
  },
  {
   "cell_type": "code",
   "execution_count": null,
   "metadata": {},
   "outputs": [],
   "source": [
    "import magic_donotload\n",
    "import hppfcl\n",
    "import pinocchio as pin\n",
    "import numpy as np\n",
    "import meshcat\n",
    "from typing import List"
   ]
  },
  {
   "cell_type": "markdown",
   "metadata": {},
   "source": [
    "## 1.1 - Create shapes with HPP-FCL and visualize them"
   ]
  },
  {
   "cell_type": "markdown",
   "metadata": {},
   "source": [
    "HPP-FCL supports lots of primitives shapes such as boxes, spheres, capsules, ellipsoids, cones, cylinders as well as convex meshes (clouds of points and triangles which define a convex closed surface).\n",
    "HPP-FCL also supports non-convex meshes (any cloud of points), height-fields, octrees etc."
   ]
  },
  {
   "cell_type": "markdown",
   "metadata": {},
   "source": [
    "In HPP-FCL, we make the distinction between `CollisionGeometry` and `CollisionObject`.\n",
    "A `CollisionObject` is a `CollisionGeometry` + a 3D placement (an element of `SE3`)."
   ]
  },
  {
   "cell_type": "code",
   "execution_count": null,
   "metadata": {},
   "outputs": [],
   "source": [
    "# A capsule is a CollisionGeometry\n",
    "capsule_geometry = hppfcl.Capsule(0.1, 0.2)\n",
    "M = pin.SE3.Random()\n",
    "# We create a CollisionObject out of a geometry and a placement\n",
    "capsule = hppfcl.CollisionObject(capsule_geometry, M)\n",
    "\n",
    "print(capsule.getNodeType())\n",
    "print(\"Rotation matrix: \\n\", capsule.getRotation())\n",
    "print(\"Translation vector: \\n\", capsule.getTranslation())"
   ]
  },
  {
   "cell_type": "markdown",
   "metadata": {},
   "source": [
    "Let's now visualize that.\n",
    "\n",
    "To keep things simple, we provide some utilities to visualize our collision objects.\n",
    "We create a very simple object `Scene` which will hold some basic information about our world:"
   ]
  },
  {
   "cell_type": "code",
   "execution_count": null,
   "metadata": {},
   "outputs": [],
   "source": [
    "# This code is only for illustration, `Scene` will be replaced by `AgimusScene`\n",
    "class Scene:\n",
    "    collision_objects: List[hppfcl.CollisionObject]\n",
    "    viewer: meshcat.Visualizer\n",
    "    mc_shapes: List[meshcat.geometry.Geometry]\n",
    "\n",
    "    def __init__(self):\n",
    "        pass\n",
    "\n",
    "    def render_scene(self):\n",
    "        pass\n",
    "\n",
    "    def clear_scene(self):\n",
    "        pass"
   ]
  },
  {
   "cell_type": "markdown",
   "metadata": {},
   "source": [
    "Let's import an already filled-out `AgimusScene`, which defines some useful rendering functions, and visualize our shapes:"
   ]
  },
  {
   "cell_type": "code",
   "execution_count": null,
   "metadata": {},
   "outputs": [],
   "source": [
    "from utils_render import AgimusScene, load_convex \n",
    "\n",
    "# This will be our scene\n",
    "scene = AgimusScene()\n",
    "\n",
    "capsule_geom = hppfcl.Capsule(0.1, 0.2)\n",
    "M = pin.SE3.Random()\n",
    "color = np.random.rand(3)\n",
    "scene.register_object(capsule_geom, M, color)\n",
    "\n",
    "convex_geom = load_convex(\"./assets/mesh.stl\")\n",
    "M = pin.SE3.Random()\n",
    "color = np.random.rand(3)\n",
    "scene.register_object(convex_geom, M, color)\n",
    "\n",
    "# Initialize scene renderer\n",
    "scene.init_renderer()\n",
    "\n",
    "# Render scene\n",
    "scene.render_scene()\n"
   ]
  },
  {
   "cell_type": "code",
   "execution_count": null,
   "metadata": {},
   "outputs": [],
   "source": [
    "# Visualize the meshcat viewer in the notebook\n",
    "scene.viewer.jupyter_cell()"
   ]
  },
  {
   "cell_type": "markdown",
   "metadata": {},
   "source": [
    "## 1.2 - Narrow phase collision check"
   ]
  },
  {
   "cell_type": "markdown",
   "metadata": {},
   "source": [
    "In a real-life scenario, we always start by running a broad phase collision check to see if the bounding boxes of ours shapes intersect. \n",
    "If so, we run a narrow phase collision check on the shapes.\n",
    "\n",
    "For the sake of this practical session, we will do the opposite and look at the narrow phase first."
   ]
  },
  {
   "cell_type": "markdown",
   "metadata": {},
   "source": [
    "To run a narrow phase collision check between two objects, we first need to create a `CollisionRequest` and a `CollisionResult`.\n",
    "These two classes hold the parameters and the results of our collision check."
   ]
  },
  {
   "cell_type": "code",
   "execution_count": null,
   "metadata": {},
   "outputs": [],
   "source": [
    "colreq = hppfcl.CollisionRequest()\n",
    "colres = hppfcl.CollisionResult()"
   ]
  },
  {
   "cell_type": "markdown",
   "metadata": {},
   "source": [
    "Let's run the collision check:"
   ]
  },
  {
   "cell_type": "code",
   "execution_count": null,
   "metadata": {},
   "outputs": [],
   "source": [
    "is_collision = hppfcl.collide(scene.collision_objects[0],\n",
    "                              scene.collision_objects[1],\n",
    "                              colreq, colres)\n",
    "print(\"Is collision?: \", is_collision)\n",
    "hasattr(scene.viewer, 'jupyter_cell') and scene.viewer.jupyter_cell()"
   ]
  },
  {
   "cell_type": "markdown",
   "metadata": {},
   "source": [
    "Since we have selected random 3D placements for our shapes, it's likely the result of the previous cell was that the shapes are not in collision.\n",
    "\n",
    "However, it's possible to define a `security_margin` in our `CollisionRequest`.\n",
    "If it has a positive value, a collision will be registered as long as the distance between the shapes is less than the security margin:"
   ]
  },
  {
   "cell_type": "code",
   "execution_count": null,
   "metadata": {},
   "outputs": [],
   "source": [
    "# Let's clear our previous result\n",
    "colres.clear()\n",
    "# Let's set the security margin in our request to a high number\n",
    "colreq.security_margin = 100\n",
    "\n",
    "# Let's run the collision detection again\n",
    "is_collision = hppfcl.collide(scene.collision_objects[0],\n",
    "                              scene.collision_objects[1],\n",
    "                              colreq, colres)\n",
    "print(\"Is collision?: \", is_collision)"
   ]
  },
  {
   "cell_type": "markdown",
   "metadata": {},
   "source": [
    "We can view the results and observe the separation vector between our shapes:"
   ]
  },
  {
   "cell_type": "code",
   "execution_count": null,
   "metadata": {},
   "outputs": [],
   "source": [
    "scene.visualize_separation_vector(colres)\n",
    "scene.viewer.jupyter_cell()"
   ]
  },
  {
   "cell_type": "markdown",
   "metadata": {},
   "source": [
    "As we see, although our shapes visually don't touch, , the narrow phase now considers the shapes to be in contact. \n",
    "Again, this is due to the high `security_margin` we imposed in our collision request.\n",
    "\n",
    "You can access the penetration depth, normal, and contact points as so:"
   ]
  },
  {
   "cell_type": "code",
   "execution_count": null,
   "metadata": {},
   "outputs": [],
   "source": [
    "contact: hppfcl.Contact = colres.getContact(0)\n",
    "normal = contact.normal\n",
    "cp1 = contact.getNearestPoint1()\n",
    "cp2 = contact.getNearestPoint2()\n",
    "v = cp2 - cp1\n",
    "depth = contact.penetration_depth\n",
    "\n",
    "print(f\"normal: {normal}\")\n",
    "print(f\"cp1: {cp1}\")\n",
    "print(f\"cp2: {cp2}\")\n",
    "print(f\"separaction vector: {v}\")\n",
    "print(f\"the normal is the normalized separation vector\\n    v/||v||: {v / np.linalg.norm(v)},\\n    normal: {normal}\")\n",
    "print(f\"penetration depth: {depth}\")"
   ]
  },
  {
   "cell_type": "markdown",
   "metadata": {},
   "source": [
    "Note: the penetration depth is the \"true\" distance between the collision objects (without taking into consideration the security margin).\n",
    "For objects to be considered in considered in contact by the narrow phase, we therefore have to have:\n",
    " `contact.penetration_depth - colreq.security_margin <= 0.`"
   ]
  },
  {
   "cell_type": "markdown",
   "metadata": {},
   "source": [
    "Exercice: make distant objects touch.\n",
    "\n",
    "Now that we have access to the separation vector `v = cp1 - cp2`, we can translate `scene.collision_objects[1]` along the separation vector until the two objects collide with each other."
   ]
  },
  {
   "cell_type": "code",
   "execution_count": null,
   "metadata": {},
   "outputs": [],
   "source": [
    "# %load -r 6-18 aws_collision_sols.py\n",
    "def make_two_objects_touch(shape1: hppfcl.CollisionObject, shape2: hppfcl.CollisionObject):\n",
    "    # TODO: re-write this function in order to translate shape2 along the separation vector\n",
    "    # so that shape1 and shape2 touch\n",
    "    colreq = hppfcl.CollisionRequest()\n",
    "    colres = hppfcl.CollisionResult()\n",
    "    hppfcl.collide(shape1, shape2, colreq, colres)\n",
    "\n",
    "    # Note: we can get and set the translation of a shape as so:\n",
    "    shape2.getTranslation()\n",
    "    shape2.setTranslation(np.random.rand(3))"
   ]
  },
  {
   "cell_type": "code",
   "execution_count": null,
   "metadata": {},
   "outputs": [],
   "source": [
    "make_two_objects_touch(scene.collision_objects[0], scene.collision_objects[1])\n",
    "scene.render_scene()\n",
    "scene.viewer.jupyter_cell()"
   ]
  },
  {
   "cell_type": "markdown",
   "metadata": {},
   "source": [
    "## 1.3 - Building a (very) simple kinematic simulator"
   ]
  },
  {
   "cell_type": "markdown",
   "metadata": {},
   "source": [
    "Let's create more complex scene than what we had so far:"
   ]
  },
  {
   "cell_type": "code",
   "execution_count": null,
   "metadata": {},
   "outputs": [],
   "source": [
    "from utils_render import create_complex_scene\n",
    "\n",
    "# The scene is made of a box (6 walls) with a bunch of objects inside\n",
    "shapes, transforms, scene = create_complex_scene()\n",
    "n_walls = 6\n",
    "\n",
    "# Initialize scene renderer\n",
    "scene.init_renderer()\n",
    "\n",
    "# render the scene\n",
    "scene.render_scene()\n",
    "\n",
    "num_collision_objects = len(scene.collision_objects)\n",
    "print(\"Number of collision objects\", num_collision_objects)\n",
    "num_possible_collision_pairs = (int)(len(scene.collision_objects)*(len(scene.collision_objects) - 1)/2)\n",
    "print(\"Number of possible collision pairs: \", num_possible_collision_pairs)\n",
    "\n",
    "scene.viewer.jupyter_cell()"
   ]
  },
  {
   "cell_type": "markdown",
   "metadata": {},
   "source": [
    "Exercice: let's try to build a very simple simulation: objects only have a velocity (no acceleration or inertia); have their position updated according to their velocity.\n",
    "It's up to you to decide how the contacts are resolved once collisions are found.\n",
    "You can be as creative as you want about it!\n",
    "\n",
    "We'll see in Simulation III how to make things physically accurate."
   ]
  },
  {
   "cell_type": "code",
   "execution_count": null,
   "metadata": {},
   "outputs": [],
   "source": [
    "# Starting velocities of each shape\n",
    "velocities = []\n",
    "for i in range(num_collision_objects - n_walls):\n",
    "    v = np.random.rand(6) * 0.25\n",
    "    velocities.append(v)\n",
    "# We don't want the walls to move\n",
    "for i in range(n_walls):\n",
    "    velocities.append(np.zeros(6))\n",
    " \n",
    "# We can use this handy function to reset the placemements of our simulated objects to their initial placements\n",
    "def reset_objects_placements(scene, transforms):\n",
    "    for s in range(len(scene.collision_objects)):\n",
    "        scene.collision_objects[s].setTransform(transforms[s])\n",
    "reset_objects_placements(scene, transforms)\n"
   ]
  },
  {
   "cell_type": "code",
   "execution_count": null,
   "metadata": {},
   "outputs": [],
   "source": [
    "scene.viewer.jupyter_cell()"
   ]
  },
  {
   "cell_type": "markdown",
   "metadata": {},
   "source": [
    "Note: I suggest you run the two cells below with `CTRL+Enter` to not jump to the cell below it. By doing that you can launch the code in the simulator cell and see the results in the cell above.\n",
    "\n",
    "- You can use the first cell below to reset the simulated objects to their initial placements.\n",
    "- You can use the second cell below to run the simulation."
   ]
  },
  {
   "cell_type": "code",
   "execution_count": null,
   "metadata": {},
   "outputs": [],
   "source": [
    "reset_objects_placements(scene, transforms)\n",
    "scene.render_scene()"
   ]
  },
  {
   "cell_type": "code",
   "execution_count": null,
   "metadata": {},
   "outputs": [],
   "source": [
    "# %load -r 34-84 aws_collision.py\n",
    "\n",
    "# Simulation loop\n",
    "# You can increase the time horizon of the simulation\n",
    "T = 100\n",
    "dt = 0.1 # timestep\n",
    "\n",
    "# Collision request and result needed for the narrow phase\n",
    "colreq = hppfcl.CollisionRequest()\n",
    "colres = hppfcl.CollisionResult()\n",
    "for t in range(T):\n",
    "    # Render the current scene\n",
    "    scene.render_scene()\n",
    "\n",
    "    # Loop through all collision pairs\n",
    "    for i in range(0, num_collision_objects-1):\n",
    "        for j in range(i+1, num_collision_objects):\n",
    "            # If both object are walls, we don't really care about checking their collision\n",
    "            if i < num_collision_objects - n_walls or j < num_collision_objects - n_walls:\n",
    "                colres.clear()\n",
    "                is_colliding = hppfcl.collide(scene.collision_objects[i], scene.collision_objects[j], colreq, colres)\n",
    "                # -----------------------------------------------------\n",
    "                # TODO: fill what is inside this \"if\" statement to correct\n",
    "                # the velocities of the two objects found # to be in collision\n",
    "                # -----------------------------------------------------\n",
    "                if (is_colliding):\n",
    "                    pass\n",
    "\n",
    "    # Update the placements of the shapes based on their velocities\n",
    "    for i in range(num_collision_objects - n_walls):\n",
    "        M = scene.collision_objects[i].getTransform()\n",
    "        # I will be using the first 3 elements of velocities[i] to apply a linear velocity to M\n",
    "        # in the world frame.\n",
    "        # And I will be using the last 3 elements of velocities[i] to apply an angular velocity to M\n",
    "        # in its local frame.\n",
    "        v1 = np.zeros(6)\n",
    "        v2 = np.zeros(6)\n",
    "        v1[:3] = velocities[i][:3]\n",
    "        v2[3:] = velocities[i][3:]\n",
    "        M = pin.exp6(v1*dt) * M * pin.exp6(v2*dt)\n",
    "        scene.collision_objects[i].setTransform(M)\n"
   ]
  },
  {
   "cell_type": "markdown",
   "metadata": {},
   "source": [
    "# Part II - Pinocchio + HPP-FCL"
   ]
  },
  {
   "cell_type": "markdown",
   "metadata": {},
   "source": [
    "HPP-FCL is integrated in Pinocchio which uses it under the hood for broad and narrow phase collision detection.\n",
    "What's nice is that all the quantities that we have seen so far (geometric shapes, collision requests/results, normals, contact points...) are also exposed by pinocchio.\n",
    "\n",
    "In this section we load a panda robot and make it play a very simple collision avoidance task."
   ]
  },
  {
   "cell_type": "code",
   "execution_count": null,
   "metadata": {},
   "outputs": [],
   "source": [
    "from aws_collision_sols import create_panda\n",
    "model, geom_model, visual_model = create_panda()"
   ]
  },
  {
   "cell_type": "markdown",
   "metadata": {},
   "source": [
    "The `geom_model` of the robot is the model used for collision detection.\n",
    "By default pinocchio creates collision pairs for every pair of links `(i, j)` where `j!=i` and `j!=i+1` (a link cannot collide with itself and with its direct neighbor).\n",
    "\n",
    "It's too easy to find a collision-free configuration for the robot itself so let's a scene with a bunch of objects around the robot:"
   ]
  },
  {
   "cell_type": "code",
   "execution_count": null,
   "metadata": {},
   "outputs": [],
   "source": [
    "NUM_GEOM_PANDA = len(geom_model.geometryObjects)\n",
    "def add_balls_to_geom_model(geom_model, joint, n_ball, a, M, visual=False):\n",
    "    ball_shape = hppfcl.Sphere(a/2)\n",
    "    geom_ball = pin.GeometryObject( \"ball_\" + str(n_ball), joint, joint, M, ball_shape)\n",
    "    geom_ball.meshColor = np.array([1.0, 0.2, 0.2, 1.0])\n",
    "    ball_id = geom_model.addGeometryObject(geom_ball)\n",
    "    if not visual:\n",
    "        for id in range(NUM_GEOM_PANDA - 1):\n",
    "            col_pair = pin.CollisionPair(id, ball_id)\n",
    "            geom_model.addCollisionPair(col_pair)\n",
    "    return geom_model\n",
    "\n",
    "xs = np.arange(-5, 7, 2)/6.\n",
    "ys = np.arange(-5, 7, 2)/6.\n",
    "zs = np.arange(-5, 7, 2)/6.\n",
    "i = 0\n",
    "for x in xs:\n",
    "    for y in ys:\n",
    "        for z in zs:\n",
    "            M = pin.SE3.Random()\n",
    "            M.translation = np.array([x, y, z])\n",
    "            add_balls_to_geom_model(geom_model, 0, i, 0.1, M)\n",
    "            add_balls_to_geom_model(visual_model, 0, i, 0.1, M, True)\n",
    "            i += 1\n",
    "\n",
    "data = model.createData()\n",
    "geom_data = geom_model.createData()"
   ]
  },
  {
   "cell_type": "code",
   "execution_count": null,
   "metadata": {},
   "outputs": [],
   "source": [
    "Viewer = pin.visualize.MeshcatVisualizer\n",
    "viz = Viewer(model, geom_model, visual_model)\n",
    "viz.initViewer(loadModel=True)\n",
    "viz.display(pin.neutral(model))\n",
    "viz.viewer.jupyter_cell()"
   ]
  },
  {
   "cell_type": "markdown",
   "metadata": {},
   "source": [
    "Exercice: find a configuration of panda that is collision free."
   ]
  },
  {
   "cell_type": "code",
   "execution_count": null,
   "metadata": {},
   "outputs": [],
   "source": [
    "# %load -r 20-30 aws_collision_sols.py\n",
    "def find_free_collision_configuration(model, data, geom_model, geom_data):\n",
    "    # TODO\n",
    "    return q"
   ]
  },
  {
   "cell_type": "code",
   "execution_count": null,
   "metadata": {},
   "outputs": [],
   "source": [
    "q = find_free_collision_configuration(model, data, geom_model, geom_data)\n",
    "viz.display(q)"
   ]
  },
  {
   "cell_type": "markdown",
   "metadata": {},
   "source": [
    "Question: given a start configuration `qstart` and an end configuration `qend`, how generate a collision-free path between these two configurations?"
   ]
  }
 ],
 "metadata": {
  "kernelspec": {
   "display_name": "aws",
   "language": "python",
   "name": "python3"
  },
  "language_info": {
   "codemirror_mode": {
    "name": "ipython",
    "version": 3
   },
   "file_extension": ".py",
   "mimetype": "text/x-python",
   "name": "python",
   "nbconvert_exporter": "python",
   "pygments_lexer": "ipython3",
   "version": "3.10.12"
  }
 },
 "nbformat": 4,
 "nbformat_minor": 2
}
